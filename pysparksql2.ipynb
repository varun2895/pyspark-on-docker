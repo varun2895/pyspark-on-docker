{
 "cells": [
  {
   "cell_type": "code",
   "execution_count": 1,
   "id": "f21595c0",
   "metadata": {},
   "outputs": [],
   "source": [
    "#importing pyspark\n",
    "import pyspark"
   ]
  },
  {
   "cell_type": "code",
   "execution_count": 2,
   "id": "363bd7c2",
   "metadata": {},
   "outputs": [],
   "source": [
    "#importing sparksession\n",
    "from pyspark.sql import SparkSession"
   ]
  },
  {
   "cell_type": "code",
   "execution_count": 3,
   "id": "5ca1509f",
   "metadata": {},
   "outputs": [],
   "source": [
    "#creating a sparksession object and providing appName \n",
    "spark=SparkSession.builder.appName(\"business_case_sql\").getOrCreate()"
   ]
  },
  {
   "cell_type": "code",
   "execution_count": 9,
   "id": "4e95ce0c",
   "metadata": {},
   "outputs": [],
   "source": [
    "#To create dataframe form External datasets\n",
    "AirlineDF = spark.read.option(\"header\", \"true\").csv(\"airlines1.csv\")"
   ]
  },
  {
   "cell_type": "markdown",
   "id": "e2c1a93a",
   "metadata": {},
   "source": [
    "To register dataframe as a table"
   ]
  },
  {
   "cell_type": "code",
   "execution_count": 10,
   "id": "2639c143",
   "metadata": {},
   "outputs": [
    {
     "name": "stderr",
     "output_type": "stream",
     "text": [
      "/usr/local/spark/python/pyspark/sql/dataframe.py:138: FutureWarning: Deprecated in 2.0, use createOrReplaceTempView instead.\n",
      "  warnings.warn(\n"
     ]
    }
   ],
   "source": [
    "AirlineDF.registerTempTable(\"AirlineTable\")"
   ]
  },
  {
   "cell_type": "code",
   "execution_count": 11,
   "id": "c5188654",
   "metadata": {},
   "outputs": [
    {
     "name": "stdout",
     "output_type": "stream",
     "text": [
      "+---+----+-------+-----+----------+---------+----------+-----------------+------------------------+---------------------------+-----------+-------------------------------+---------------+------------------+------------------+------+------------------+-----------+---------------+---------------+---------+-------------+----------------+----------------+----+--------------------+---------+-------------+--------------+-------+----------+-------+--------+---------------+--------+--------------------+----------+-------+---------+--------+------+----------+-------+--------+---------------+--------+------------------+----------+---------+----------------+--------+--------------+-----------------+-------+-------+--------+-------------+------------+------------+--------+-------------+-----------------+------------+-------------+---------------+------------------+--------------+--------------------+-----------+-----------+-----------+-------------+----------------+------------+--------------+----------------+-------------+-----------+-----------+-------------+----------------+------------+--------------+----------------+-------------+-----------+-----------+-------------+----------------+------------+--------------+----------------+-------------+-----------+-----------+-------------+----------------+------------+--------------+----------------+-------------+-----------+-----------+-------------+----------------+------------+--------------+----------------+-------------+-----------+\n",
      "|_c0|Year|Quarter|Month|DayofMonth|DayOfWeek|FlightDate|Reporting_Airline|DOT_ID_Reporting_Airline|IATA_CODE_Reporting_Airline|Tail_Number|Flight_Number_Reporting_Airline|OriginAirportID|OriginAirportSeqID|OriginCityMarketID|Origin|    OriginCityName|OriginState|OriginStateFips|OriginStateName|OriginWac|DestAirportID|DestAirportSeqID|DestCityMarketID|Dest|        DestCityName|DestState|DestStateFips| DestStateName|DestWac|CRSDepTime|DepTime|DepDelay|DepDelayMinutes|DepDel15|DepartureDelayGroups|DepTimeBlk|TaxiOut|WheelsOff|WheelsOn|TaxiIn|CRSArrTime|ArrTime|ArrDelay|ArrDelayMinutes|ArrDel15|ArrivalDelayGroups|ArrTimeBlk|Cancelled|CancellationCode|Diverted|CRSElapsedTime|ActualElapsedTime|AirTime|Flights|Distance|DistanceGroup|CarrierDelay|WeatherDelay|NASDelay|SecurityDelay|LateAircraftDelay|FirstDepTime|TotalAddGTime|LongestAddGTime|DivAirportLandings|DivReachedDest|DivActualElapsedTime|DivArrDelay|DivDistance|Div1Airport|Div1AirportID|Div1AirportSeqID|Div1WheelsOn|Div1TotalGTime|Div1LongestGTime|Div1WheelsOff|Div1TailNum|Div2Airport|Div2AirportID|Div2AirportSeqID|Div2WheelsOn|Div2TotalGTime|Div2LongestGTime|Div2WheelsOff|Div2TailNum|Div3Airport|Div3AirportID|Div3AirportSeqID|Div3WheelsOn|Div3TotalGTime|Div3LongestGTime|Div3WheelsOff|Div3TailNum|Div4Airport|Div4AirportID|Div4AirportSeqID|Div4WheelsOn|Div4TotalGTime|Div4LongestGTime|Div4WheelsOff|Div4TailNum|Div5Airport|Div5AirportID|Div5AirportSeqID|Div5WheelsOn|Div5TotalGTime|Div5LongestGTime|Div5WheelsOff|Div5TailNum|\n",
      "+---+----+-------+-----+----------+---------+----------+-----------------+------------------------+---------------------------+-----------+-------------------------------+---------------+------------------+------------------+------+------------------+-----------+---------------+---------------+---------+-------------+----------------+----------------+----+--------------------+---------+-------------+--------------+-------+----------+-------+--------+---------------+--------+--------------------+----------+-------+---------+--------+------+----------+-------+--------+---------------+--------+------------------+----------+---------+----------------+--------+--------------+-----------------+-------+-------+--------+-------------+------------+------------+--------+-------------+-----------------+------------+-------------+---------------+------------------+--------------+--------------------+-----------+-----------+-----------+-------------+----------------+------------+--------------+----------------+-------------+-----------+-----------+-------------+----------------+------------+--------------+----------------+-------------+-----------+-----------+-------------+----------------+------------+--------------+----------------+-------------+-----------+-----------+-------------+----------------+------------+--------------+----------------+-------------+-----------+-----------+-------------+----------------+------------+--------------+----------------+-------------+-----------+\n",
      "|  0|1998|      1|    1|         2|        5|1998-01-02|               NW|                   19386|                         NW|     N297US|                            675|          13487|           1348701|             31650|   MSP|   Minneapolis, MN|         MN|           27.0|      Minnesota|       63|        14869|         1486902|           34614| SLC|  Salt Lake City, UT|       UT|         49.0|          Utah|     87|      1640| 1659.0|    19.0|           19.0|     1.0|                 1.0| 1600-1659|   24.0|   1723.0|  1856.0|   3.0|      1836| 1859.0|    23.0|           23.0|     1.0|               1.0| 1800-1859|      0.0|            null|     0.0|         176.0|            180.0|  153.0|    1.0|   991.0|            4|        null|        null|    null|         null|             null|        null|         null|           null|              null|          null|                null|       null|       null|       null|         null|            null|        null|          null|            null|         null|       null|       null|         null|            null|        null|          null|            null|         null|       null|       null|         null|            null|        null|          null|            null|         null|       null|       null|         null|            null|        null|          null|            null|         null|       null|       null|         null|            null|        null|          null|            null|         null|       null|\n",
      "|  1|2009|      2|    5|        28|        4|2009-05-28|               FL|                   20437|                         FL|     N946AT|                            671|          13342|           1334202|             33342|   MKE|     Milwaukee, WI|         WI|           55.0|      Wisconsin|       45|        13204|         1320401|           31454| MCO|         Orlando, FL|       FL|         12.0|       Florida|     33|      1204| 1202.0|    -2.0|            0.0|     0.0|                -1.0| 1200-1259|   10.0|   1212.0|  1533.0|   8.0|      1541| 1541.0|     0.0|            0.0|     0.0|               0.0| 1500-1559|      0.0|            null|     0.0|         157.0|            159.0|  141.0|    1.0|  1066.0|            5|        null|        null|    null|         null|             null|        null|         null|           null|               0.0|          null|                null|       null|       null|       null|         null|            null|        null|          null|            null|         null|       null|       null|         null|            null|        null|          null|            null|         null|       null|       null|         null|            null|        null|          null|            null|         null|       null|       null|         null|            null|        null|          null|            null|         null|       null|       null|         null|            null|        null|          null|            null|         null|       null|\n",
      "|  2|2013|      2|    6|        29|        6|2013-06-29|               MQ|                   20398|                         MQ|     N665MQ|                           3297|          11921|           1192102|             31921|   GJT|Grand Junction, CO|         CO|            8.0|       Colorado|       82|        11298|         1129803|           30194| DFW|Dallas/Fort Worth...|       TX|         48.0|         Texas|     74|      1630| 1644.0|    14.0|           14.0|     0.0|                 0.0| 1600-1659|    9.0|   1653.0|  1936.0|   6.0|      1945| 1942.0|    -3.0|            0.0|     0.0|              -1.0| 1900-1959|      0.0|            null|     0.0|         135.0|            118.0|  103.0|    1.0|   773.0|            4|        null|        null|    null|         null|             null|        null|         null|           null|               0.0|          null|                null|       null|       null|       null|         null|            null|        null|          null|            null|         null|       null|       null|         null|            null|        null|          null|            null|         null|       null|       null|         null|            null|        null|          null|            null|         null|       null|       null|         null|            null|        null|          null|            null|         null|       null|       null|         null|            null|        null|          null|            null|         null|       null|\n",
      "|  3|2010|      3|    8|        31|        2|2010-08-31|               DL|                   19790|                         DL|     N6705Y|                           1806|          12892|           1289201|             32575|   LAX|   Los Angeles, CA|         CA|            6.0|     California|       91|        11433|         1143301|           31295| DTW|         Detroit, MI|       MI|         26.0|      Michigan|     43|      1305| 1305.0|     0.0|            0.0|     0.0|                 0.0| 1300-1359|   23.0|   1328.0|  2008.0|   7.0|      2035| 2015.0|   -20.0|            0.0|     0.0|              -2.0| 2000-2059|      0.0|            null|     0.0|         270.0|            250.0|  220.0|    1.0|  1979.0|            8|        null|        null|    null|         null|             null|        null|         null|           null|               0.0|          null|                null|       null|       null|       null|         null|            null|        null|          null|            null|         null|       null|       null|         null|            null|        null|          null|            null|         null|       null|       null|         null|            null|        null|          null|            null|         null|       null|       null|         null|            null|        null|          null|            null|         null|       null|       null|         null|            null|        null|          null|            null|         null|       null|\n",
      "|  4|2006|      1|    1|        15|        7|2006-01-15|               US|                   20355|                         US|     N504AU|                            465|          11618|           1161801|             31703|   EWR|        Newark, NJ|         NJ|           34.0|     New Jersey|       21|        11057|         1105702|           31057| CLT|       Charlotte, NC|       NC|         37.0|North Carolina|     36|      1820| 1911.0|    51.0|           51.0|     1.0|                 3.0| 1800-1859|   19.0|   1930.0|  2050.0|   8.0|      2026| 2058.0|    32.0|           32.0|     1.0|               2.0| 2000-2059|      0.0|            null|     0.0|         126.0|            107.0|   80.0|    1.0|   529.0|            3|         0.0|         0.0|     0.0|          0.0|             32.0|        null|         null|           null|              null|          null|                null|       null|       null|       null|         null|            null|        null|          null|            null|         null|       null|       null|         null|            null|        null|          null|            null|         null|       null|       null|         null|            null|        null|          null|            null|         null|       null|       null|         null|            null|        null|          null|            null|         null|       null|       null|         null|            null|        null|          null|            null|         null|       null|\n",
      "+---+----+-------+-----+----------+---------+----------+-----------------+------------------------+---------------------------+-----------+-------------------------------+---------------+------------------+------------------+------+------------------+-----------+---------------+---------------+---------+-------------+----------------+----------------+----+--------------------+---------+-------------+--------------+-------+----------+-------+--------+---------------+--------+--------------------+----------+-------+---------+--------+------+----------+-------+--------+---------------+--------+------------------+----------+---------+----------------+--------+--------------+-----------------+-------+-------+--------+-------------+------------+------------+--------+-------------+-----------------+------------+-------------+---------------+------------------+--------------+--------------------+-----------+-----------+-----------+-------------+----------------+------------+--------------+----------------+-------------+-----------+-----------+-------------+----------------+------------+--------------+----------------+-------------+-----------+-----------+-------------+----------------+------------+--------------+----------------+-------------+-----------+-----------+-------------+----------------+------------+--------------+----------------+-------------+-----------+-----------+-------------+----------------+------------+--------------+----------------+-------------+-----------+\n",
      "only showing top 5 rows\n",
      "\n"
     ]
    }
   ],
   "source": [
    "#how to read the register table\n",
    "spark.sql(\"select * from AirlineTable\").show(5)"
   ]
  },
  {
   "cell_type": "code",
   "execution_count": 12,
   "id": "b2c71e18",
   "metadata": {},
   "outputs": [
    {
     "name": "stdout",
     "output_type": "stream",
     "text": [
      "+--------+\n",
      "|count(1)|\n",
      "+--------+\n",
      "|   50001|\n",
      "+--------+\n",
      "\n"
     ]
    }
   ],
   "source": [
    "#count number of rows\n",
    "spark.sql(\"select count(*) from AirlineTable\").show()"
   ]
  },
  {
   "cell_type": "code",
   "execution_count": 13,
   "id": "67d41369",
   "metadata": {},
   "outputs": [
    {
     "name": "stdout",
     "output_type": "stream",
     "text": [
      "+--------------------+---------+-------+\n",
      "|            col_name|data_type|comment|\n",
      "+--------------------+---------+-------+\n",
      "|                 _c0|   string|   null|\n",
      "|                Year|   string|   null|\n",
      "|             Quarter|   string|   null|\n",
      "|               Month|   string|   null|\n",
      "|          DayofMonth|   string|   null|\n",
      "|           DayOfWeek|   string|   null|\n",
      "|          FlightDate|   string|   null|\n",
      "|   Reporting_Airline|   string|   null|\n",
      "|DOT_ID_Reporting_...|   string|   null|\n",
      "|IATA_CODE_Reporti...|   string|   null|\n",
      "|         Tail_Number|   string|   null|\n",
      "|Flight_Number_Rep...|   string|   null|\n",
      "|     OriginAirportID|   string|   null|\n",
      "|  OriginAirportSeqID|   string|   null|\n",
      "|  OriginCityMarketID|   string|   null|\n",
      "|              Origin|   string|   null|\n",
      "|      OriginCityName|   string|   null|\n",
      "|         OriginState|   string|   null|\n",
      "|     OriginStateFips|   string|   null|\n",
      "|     OriginStateName|   string|   null|\n",
      "|           OriginWac|   string|   null|\n",
      "|       DestAirportID|   string|   null|\n",
      "|    DestAirportSeqID|   string|   null|\n",
      "|    DestCityMarketID|   string|   null|\n",
      "|                Dest|   string|   null|\n",
      "|        DestCityName|   string|   null|\n",
      "|           DestState|   string|   null|\n",
      "|       DestStateFips|   string|   null|\n",
      "|       DestStateName|   string|   null|\n",
      "|             DestWac|   string|   null|\n",
      "|          CRSDepTime|   string|   null|\n",
      "|             DepTime|   string|   null|\n",
      "|            DepDelay|   string|   null|\n",
      "|     DepDelayMinutes|   string|   null|\n",
      "|            DepDel15|   string|   null|\n",
      "|DepartureDelayGroups|   string|   null|\n",
      "|          DepTimeBlk|   string|   null|\n",
      "|             TaxiOut|   string|   null|\n",
      "|           WheelsOff|   string|   null|\n",
      "|            WheelsOn|   string|   null|\n",
      "|              TaxiIn|   string|   null|\n",
      "|          CRSArrTime|   string|   null|\n",
      "|             ArrTime|   string|   null|\n",
      "|            ArrDelay|   string|   null|\n",
      "|     ArrDelayMinutes|   string|   null|\n",
      "|            ArrDel15|   string|   null|\n",
      "|  ArrivalDelayGroups|   string|   null|\n",
      "|          ArrTimeBlk|   string|   null|\n",
      "|           Cancelled|   string|   null|\n",
      "|    CancellationCode|   string|   null|\n",
      "+--------------------+---------+-------+\n",
      "only showing top 50 rows\n",
      "\n"
     ]
    }
   ],
   "source": [
    "#how to see all columns with datatype\n",
    "spark.sql(\"describe AirlineTable\").show(50)"
   ]
  },
  {
   "cell_type": "code",
   "execution_count": 14,
   "id": "4b3dd126",
   "metadata": {},
   "outputs": [
    {
     "name": "stdout",
     "output_type": "stream",
     "text": [
      "+------+--------------------+\n",
      "|origin|        destcityname|\n",
      "+------+--------------------+\n",
      "|   MSP|  Salt Lake City, UT|\n",
      "|   MKE|         Orlando, FL|\n",
      "|   GJT|Dallas/Fort Worth...|\n",
      "|   LAX|         Detroit, MI|\n",
      "|   EWR|       Charlotte, NC|\n",
      "+------+--------------------+\n",
      "only showing top 5 rows\n",
      "\n"
     ]
    }
   ],
   "source": [
    "# select some columns form table\n",
    "spark.sql(\"select origin,destcityname from AirlineTable\").show(5)"
   ]
  },
  {
   "cell_type": "code",
   "execution_count": 15,
   "id": "15fbd6bd",
   "metadata": {},
   "outputs": [
    {
     "name": "stdout",
     "output_type": "stream",
     "text": [
      "+--------------------+\n",
      "|avg(DepDelayMinutes)|\n",
      "+--------------------+\n",
      "|  10.851455322613475|\n",
      "+--------------------+\n",
      "\n"
     ]
    }
   ],
   "source": [
    "# average departure delay \n",
    "spark.sql(\"select avg(DepDelayMinutes) from AirlineTable\").show()"
   ]
  },
  {
   "cell_type": "code",
   "execution_count": 16,
   "id": "02b949b3",
   "metadata": {},
   "outputs": [
    {
     "name": "stdout",
     "output_type": "stream",
     "text": [
      "+-------------------------------+---------------------+\n",
      "|Flight_Number_Reporting_Airline|(DepDelay + ArrDelay)|\n",
      "+-------------------------------+---------------------+\n",
      "|                            675|                 42.0|\n",
      "|                            671|                 -2.0|\n",
      "|                           3297|                 11.0|\n",
      "|                           1806|                -20.0|\n",
      "|                            465|                 83.0|\n",
      "|                           1198|                 11.0|\n",
      "|                           1431|                 -2.0|\n",
      "|                           3459|                435.0|\n",
      "|                           7233|                 12.0|\n",
      "|                           5932|                 45.0|\n",
      "|                           2135|                  8.0|\n",
      "|                           1463|                 -5.0|\n",
      "|                            830|                -13.0|\n",
      "|                           6474|                -23.0|\n",
      "|                            674|                -21.0|\n",
      "|                            362|                 10.0|\n",
      "|                           1678|                -18.0|\n",
      "|                            413|                -35.0|\n",
      "|                            210|                -17.0|\n",
      "|                            995|                 null|\n",
      "+-------------------------------+---------------------+\n",
      "only showing top 20 rows\n",
      "\n"
     ]
    }
   ],
   "source": [
    "#calculate overall flights delay \n",
    "spark.sql(\"select Flight_Number_Reporting_Airline,DepDelay+ArrDelay  from AirlineTable\").show()"
   ]
  },
  {
   "cell_type": "code",
   "execution_count": 17,
   "id": "4160706e",
   "metadata": {},
   "outputs": [
    {
     "name": "stdout",
     "output_type": "stream",
     "text": [
      "+------+--------+--------------------+--------------------+\n",
      "|origin|count(1)|avg(DepDelayMinutes)|max(DepDelayMinutes)|\n",
      "+------+--------+--------------------+--------------------+\n",
      "|   ABE|      49|   6.659574468085107|                44.0|\n",
      "|   ABI|      11|  0.5555555555555556|                 4.0|\n",
      "|   ABQ|     290|   9.041958041958042|                 9.0|\n",
      "|   ABR|       3|               284.0|               852.0|\n",
      "|   ABY|       3|                20.0|                30.0|\n",
      "|   ACK|       1|                 0.0|                 0.0|\n",
      "|   ACT|      16|              3.1875|                33.0|\n",
      "|   ACV|      14|   7.071428571428571|                 7.0|\n",
      "|   ACY|       5|                 7.6|                38.0|\n",
      "|   ADK|       2|                 6.5|                13.0|\n",
      "|   ADQ|       4|   4.666666666666667|                14.0|\n",
      "|   AEX|      11|   8.090909090909092|                34.0|\n",
      "|   AGS|      27|  23.814814814814813|                64.0|\n",
      "|   AKN|       2|                 9.5|                 4.0|\n",
      "|   ALB|     111|  7.5504587155963305|                 9.0|\n",
      "|   ALO|       3|                 0.0|                 0.0|\n",
      "|   AMA|      47|   9.065217391304348|                72.0|\n",
      "|   ANC|     146|  11.282758620689656|                 9.0|\n",
      "|   APN|       2|                 0.0|                 0.0|\n",
      "|   ART|       1|                 0.0|                 0.0|\n",
      "+------+--------+--------------------+--------------------+\n",
      "only showing top 20 rows\n",
      "\n"
     ]
    }
   ],
   "source": [
    "# count total number of flights by origin airport and total avg and maximum DepDelay time of each airport\n",
    "spark.sql(\"select origin,count(*),avg(DepDelayMinutes),max(DepDelayMinutes) from AirlineTable where group by origin\").show()"
   ]
  },
  {
   "cell_type": "code",
   "execution_count": 18,
   "id": "17876f38",
   "metadata": {},
   "outputs": [
    {
     "name": "stdout",
     "output_type": "stream",
     "text": [
      "+-----------+----------------+\n",
      "|OriginState|count(Cancelled)|\n",
      "+-----------+----------------+\n",
      "|         SC|               8|\n",
      "|         AZ|              12|\n",
      "|         LA|               5|\n",
      "|         MN|              26|\n",
      "|         NJ|              27|\n",
      "+-----------+----------------+\n",
      "only showing top 5 rows\n",
      "\n"
     ]
    }
   ],
   "source": [
    "# calculate origin state wise cancelled flights\n",
    "spark.sql(\"select OriginState,count(Cancelled) from AirlineTable where Cancelled = 1  group by originstate\").show(5)"
   ]
  },
  {
   "cell_type": "code",
   "execution_count": 19,
   "id": "eb07853c",
   "metadata": {},
   "outputs": [
    {
     "name": "stdout",
     "output_type": "stream",
     "text": [
      "+------+--------+\n",
      "|origin|count(1)|\n",
      "+------+--------+\n",
      "|   ATL|       8|\n",
      "|   ORD|       7|\n",
      "|   PHX|       6|\n",
      "|   DFW|       6|\n",
      "|   MCO|       6|\n",
      "|   LAX|       5|\n",
      "|   IAH|       5|\n",
      "|   CLE|       4|\n",
      "|   CLT|       3|\n",
      "|   BOS|       3|\n",
      "|   MIA|       3|\n",
      "|   SFO|       3|\n",
      "|   CMH|       3|\n",
      "|   LAS|       3|\n",
      "|   MEM|       3|\n",
      "|   TPA|       3|\n",
      "|   IAD|       3|\n",
      "|   EWR|       2|\n",
      "|   DEN|       2|\n",
      "|   SMF|       2|\n",
      "+------+--------+\n",
      "only showing top 20 rows\n",
      "\n"
     ]
    }
   ],
   "source": [
    "#pass condition on two columns\n",
    "spark.sql(\"select origin,count(*) from AirlineTable where year = 2010 and month = 6  group by origin order by count(*) desc\").show()"
   ]
  },
  {
   "cell_type": "code",
   "execution_count": 20,
   "id": "751f2d9a",
   "metadata": {},
   "outputs": [
    {
     "name": "stdout",
     "output_type": "stream",
     "text": [
      "+------------------------+\n",
      "|DOT_ID_Reporting_Airline|\n",
      "+------------------------+\n",
      "|                   20409|\n",
      "|                   19805|\n",
      "+------------------------+\n",
      "\n"
     ]
    }
   ],
   "source": [
    "# pass more than two condition on difftent columns\n",
    "spark.sql(\"select DOT_ID_Reporting_Airline from AirlineTable where year = 2015 and month = 12 and origin = 'JFK'\").show()"
   ]
  },
  {
   "cell_type": "code",
   "execution_count": 21,
   "id": "ddd7e47f",
   "metadata": {},
   "outputs": [
    {
     "name": "stdout",
     "output_type": "stream",
     "text": [
      "+------+-------------+-------+\n",
      "|origin|sum(diverted)|RANKING|\n",
      "+------+-------------+-------+\n",
      "|   DEN|          6.0|      1|\n",
      "|   ATL|          6.0|      1|\n",
      "|   ORD|          6.0|      1|\n",
      "|   MSP|          6.0|      1|\n",
      "|   DFW|          5.0|      5|\n",
      "|   FLL|          5.0|      5|\n",
      "|   CVG|          4.0|      7|\n",
      "|   CLT|          4.0|      7|\n",
      "|   LAX|          4.0|      7|\n",
      "|   MCO|          4.0|      7|\n",
      "|   CMH|          3.0|     11|\n",
      "|   SEA|          3.0|     11|\n",
      "|   PDX|          3.0|     11|\n",
      "|   BWI|          3.0|     11|\n",
      "|   STL|          3.0|     11|\n",
      "|   PIT|          3.0|     11|\n",
      "|   DCA|          2.0|     17|\n",
      "|   PSG|          2.0|     17|\n",
      "|   BNA|          2.0|     17|\n",
      "|   IAH|          2.0|     17|\n",
      "+------+-------------+-------+\n",
      "only showing top 20 rows\n",
      "\n"
     ]
    }
   ],
   "source": [
    "#rank and number of diverted flight by origin \n",
    "spark.sql(\"select origin,sum(diverted),RANK() over(order by sum(diverted) desc) AS RANKING from AirlineTable group by origin\").show()"
   ]
  },
  {
   "cell_type": "markdown",
   "id": "fd04c12c",
   "metadata": {},
   "source": [
    "# Case Study 1\n",
    "To calulate year wise on time flight performance "
   ]
  },
  {
   "cell_type": "code",
   "execution_count": 22,
   "id": "dacfd9ff",
   "metadata": {},
   "outputs": [],
   "source": [
    "df1 = spark.sql(\"select year,count(*) AS TOTAL_FLIGHT ,count(arrdelay==0) AS TOTAL_ON_TIME,sum(cancelled) AS TOTAL_CANCELLED,sum(diverted) AS TOTAL_DIRVERTED from AirlineTable where group by year;\")"
   ]
  },
  {
   "cell_type": "code",
   "execution_count": 23,
   "id": "9cc79e1d",
   "metadata": {},
   "outputs": [],
   "source": [
    "df1.registerTempTable(\"AirlineTable1\")"
   ]
  },
  {
   "cell_type": "code",
   "execution_count": 24,
   "id": "0917a167",
   "metadata": {},
   "outputs": [
    {
     "name": "stdout",
     "output_type": "stream",
     "text": [
      "+----+------------+-------------+---------------+---------------+\n",
      "|year|TOTAL_FLIGHT|TOTAL_ON_TIME|TOTAL_CANCELLED|TOTAL_DIRVERTED|\n",
      "+----+------------+-------------+---------------+---------------+\n",
      "|1987|         339|          336|            3.0|            0.0|\n",
      "|2016|        1502|         1484|           17.0|            1.0|\n",
      "|2020|         462|          438|           24.0|            0.0|\n",
      "|2012|        1519|         1497|           20.0|            2.0|\n",
      "|1988|        1310|         1293|           15.0|            2.0|\n",
      "|2019|        1900|         1862|           34.0|            4.0|\n",
      "|2017|        1449|         1421|           22.0|            6.0|\n",
      "|2014|        1513|         1476|           31.0|            6.0|\n",
      "|2013|        1690|         1663|           22.0|            5.0|\n",
      "|2005|        1812|         1776|           33.0|            3.0|\n",
      "|2000|        1477|         1432|           42.0|            3.0|\n",
      "|2002|        1371|         1360|           11.0|            0.0|\n",
      "|2009|        1604|         1578|           19.0|            7.0|\n",
      "|2018|        1862|         1833|           24.0|            5.0|\n",
      "|1995|        1377|         1352|           22.0|            3.0|\n",
      "|2006|        1900|         1862|           30.0|            8.0|\n",
      "|2004|        1847|         1815|           29.0|            3.0|\n",
      "|2011|        1551|         1516|           29.0|            6.0|\n",
      "|1989|        1288|         1259|           26.0|            3.0|\n",
      "|1992|        1335|         1318|           14.0|            3.0|\n",
      "+----+------------+-------------+---------------+---------------+\n",
      "only showing top 20 rows\n",
      "\n"
     ]
    }
   ],
   "source": [
    "spark.sql(\"select * from AirlineTable1\").show()"
   ]
  },
  {
   "cell_type": "code",
   "execution_count": 25,
   "id": "8f09c288",
   "metadata": {},
   "outputs": [
    {
     "name": "stdout",
     "output_type": "stream",
     "text": [
      "+----+------------+-------------+-----------------+---------------+------------------+---------------+-------------------+\n",
      "|year|TOTAL_FLIGHT|TOTAL_ON_TIME|      ON_TIME_PER|TOTAL_CANCELLED|     CANCELLED_PER|TOTAL_DIRVERTED|       DIVERTED_PER|\n",
      "+----+------------+-------------+-----------------+---------------+------------------+---------------+-------------------+\n",
      "|1987|         339|          336|99.11504424778761|            3.0|0.8849557522123894|            0.0|                0.0|\n",
      "|2016|        1502|         1484|98.80159786950732|           17.0|1.1318242343541944|            1.0|0.06657789613848203|\n",
      "|2020|         462|          438| 94.8051948051948|           24.0| 5.194805194805195|            0.0|                0.0|\n",
      "|2012|        1519|         1497|98.55167873601053|           20.0| 1.316655694535879|            2.0| 0.1316655694535879|\n",
      "|1988|        1310|         1293|98.70229007633588|           15.0|1.1450381679389312|            2.0|0.15267175572519084|\n",
      "|2019|        1900|         1862|             98.0|           34.0|1.7894736842105263|            4.0|0.21052631578947367|\n",
      "|2017|        1449|         1421|98.06763285024155|           22.0| 1.518288474810214|            6.0| 0.4140786749482402|\n",
      "|2014|        1513|         1476|97.55452742894911|           31.0| 2.048909451421018|            6.0| 0.3965631196298744|\n",
      "|2013|        1690|         1663|98.40236686390533|           22.0| 1.301775147928994|            5.0| 0.2958579881656805|\n",
      "|2005|        1812|         1776|98.01324503311258|           33.0|1.8211920529801324|            3.0|0.16556291390728478|\n",
      "|2000|        1477|         1432| 96.9532836831415|           42.0| 2.843601895734597|            3.0| 0.2031144211238998|\n",
      "|2002|        1371|         1360|99.19766593727206|           11.0|0.8023340627279358|            0.0|                0.0|\n",
      "|2009|        1604|         1578| 98.3790523690773|           19.0|1.1845386533665836|            7.0|0.43640897755610975|\n",
      "|2018|        1862|         1833|98.44253490870032|           24.0| 1.288936627282492|            5.0|0.26852846401718583|\n",
      "|1995|        1377|         1352|98.18445896877269|           22.0| 1.597676107480029|            3.0| 0.2178649237472767|\n",
      "|2006|        1900|         1862|             98.0|           30.0|1.5789473684210527|            8.0|0.42105263157894735|\n",
      "|2004|        1847|         1815|98.26746074715756|           29.0|1.5701136978884678|            3.0|0.16242555495397942|\n",
      "|2011|        1551|         1516|97.74339136041263|           29.0|1.8697614442295294|            6.0|0.38684719535783363|\n",
      "|1989|        1288|         1259|97.74844720496894|           26.0| 2.018633540372671|            3.0| 0.2329192546583851|\n",
      "|1992|        1335|         1318|98.72659176029963|           14.0| 1.048689138576779|            3.0| 0.2247191011235955|\n",
      "+----+------------+-------------+-----------------+---------------+------------------+---------------+-------------------+\n",
      "only showing top 20 rows\n",
      "\n"
     ]
    }
   ],
   "source": [
    "# performance in percentage\n",
    "spark.sql(\"select year,TOTAL_FLIGHT,TOTAL_ON_TIME,TOTAL_ON_TIME*100/TOTAL_FLIGHT AS ON_TIME_PER,TOTAL_CANCELLED,TOTAL_CANCELLED*100/TOTAL_FLIGHT AS CANCELLED_PER,TOTAL_DIRVERTED,TOTAL_DIRVERTED*100/TOTAL_FLIGHT AS DIVERTED_PER from AirlineTable1;\").show()"
   ]
  },
  {
   "cell_type": "code",
   "execution_count": 26,
   "id": "d2ece725",
   "metadata": {},
   "outputs": [],
   "source": [
    "#To calulate origincityname wise on time flight performance "
   ]
  },
  {
   "cell_type": "code",
   "execution_count": 27,
   "id": "ab87331a",
   "metadata": {},
   "outputs": [],
   "source": [
    "df2 = spark.sql(\"select origincityname,count(*) AS TOTAL_FLIGHT ,count(arrdelay==0) AS TOTAL_ON_TIME,sum(cancelled) AS TOTAL_CANCELLED,sum(diverted) AS TOTAL_DIRVERTED from AirlineTable where group by origincityname;\")"
   ]
  },
  {
   "cell_type": "code",
   "execution_count": 28,
   "id": "bfd32a62",
   "metadata": {},
   "outputs": [],
   "source": [
    "df2.registerTempTable(\"AirlineTable2\")"
   ]
  },
  {
   "cell_type": "code",
   "execution_count": 29,
   "id": "b5035ece",
   "metadata": {},
   "outputs": [
    {
     "name": "stdout",
     "output_type": "stream",
     "text": [
      "+------------------+------------+-------------+---------------+---------------+\n",
      "|    origincityname|TOTAL_FLIGHT|TOTAL_ON_TIME|TOTAL_CANCELLED|TOTAL_DIRVERTED|\n",
      "+------------------+------------+-------------+---------------+---------------+\n",
      "|   Gainesville, FL|          18|           18|            0.0|            0.0|\n",
      "|      Richmond, VA|         146|          141|            5.0|            0.0|\n",
      "|        Tucson, AZ|         157|          155|            2.0|            0.0|\n",
      "|       Ontario, CA|         270|          266|            3.0|            1.0|\n",
      "|        Pierre, SD|           1|            1|            0.0|            0.0|\n",
      "|       Medford, OR|          21|           21|            0.0|            0.0|\n",
      "|  Myrtle Beach, SC|          41|           40|            1.0|            0.0|\n",
      "|  Palm Springs, CA|          85|           80|            3.0|            2.0|\n",
      "|       Redding, CA|           8|            8|            0.0|            0.0|\n",
      "|       Durango, CO|           9|            9|            0.0|            0.0|\n",
      "|Corpus Christi, TX|          48|           48|            0.0|            0.0|\n",
      "|        Mobile, AL|          33|           33|            0.0|            0.0|\n",
      "|       Dubuque, IA|           6|            5|            1.0|            0.0|\n",
      "|    Fort Myers, FL|         193|          189|            4.0|            0.0|\n",
      "|    Huntsville, AL|          67|           62|            5.0|            0.0|\n",
      "|     Pensacola, FL|          73|           72|            1.0|            0.0|\n",
      "|      Columbus, GA|          14|           14|            0.0|            0.0|\n",
      "|   Springfield, IL|          12|           11|            1.0|            0.0|\n",
      "|         Aspen, CO|          18|           16|            2.0|            0.0|\n",
      "|      San Juan, PR|         181|          179|            2.0|            0.0|\n",
      "+------------------+------------+-------------+---------------+---------------+\n",
      "only showing top 20 rows\n",
      "\n"
     ]
    }
   ],
   "source": [
    "spark.sql(\"select * from AirlineTable2\").show()"
   ]
  },
  {
   "cell_type": "code",
   "execution_count": 30,
   "id": "d1f59b33",
   "metadata": {},
   "outputs": [
    {
     "name": "stdout",
     "output_type": "stream",
     "text": [
      "+------------------+------------+-------------+-----------------+---------------+------------------+---------------+-------------------+\n",
      "|    origincityname|TOTAL_FLIGHT|TOTAL_ON_TIME|      ON_TIME_PER|TOTAL_CANCELLED|     CANCELLED_PER|TOTAL_DIRVERTED|       DIVERTED_PER|\n",
      "+------------------+------------+-------------+-----------------+---------------+------------------+---------------+-------------------+\n",
      "|   Gainesville, FL|          18|           18|            100.0|            0.0|               0.0|            0.0|                0.0|\n",
      "|      Richmond, VA|         146|          141|96.57534246575342|            5.0|3.4246575342465753|            0.0|                0.0|\n",
      "|        Tucson, AZ|         157|          155|98.72611464968153|            2.0|1.2738853503184713|            0.0|                0.0|\n",
      "|       Ontario, CA|         270|          266|98.51851851851852|            3.0|1.1111111111111112|            1.0|0.37037037037037035|\n",
      "|        Pierre, SD|           1|            1|            100.0|            0.0|               0.0|            0.0|                0.0|\n",
      "|       Medford, OR|          21|           21|            100.0|            0.0|               0.0|            0.0|                0.0|\n",
      "|  Myrtle Beach, SC|          41|           40| 97.5609756097561|            1.0|2.4390243902439024|            0.0|                0.0|\n",
      "|  Palm Springs, CA|          85|           80|94.11764705882354|            3.0|3.5294117647058822|            2.0| 2.3529411764705883|\n",
      "|       Redding, CA|           8|            8|            100.0|            0.0|               0.0|            0.0|                0.0|\n",
      "|       Durango, CO|           9|            9|            100.0|            0.0|               0.0|            0.0|                0.0|\n",
      "|Corpus Christi, TX|          48|           48|            100.0|            0.0|               0.0|            0.0|                0.0|\n",
      "|        Mobile, AL|          33|           33|            100.0|            0.0|               0.0|            0.0|                0.0|\n",
      "|       Dubuque, IA|           6|            5|83.33333333333333|            1.0|16.666666666666668|            0.0|                0.0|\n",
      "|    Fort Myers, FL|         193|          189|97.92746113989638|            4.0|2.0725388601036268|            0.0|                0.0|\n",
      "|    Huntsville, AL|          67|           62|92.53731343283582|            5.0| 7.462686567164179|            0.0|                0.0|\n",
      "|     Pensacola, FL|          73|           72|98.63013698630137|            1.0|  1.36986301369863|            0.0|                0.0|\n",
      "|      Columbus, GA|          14|           14|            100.0|            0.0|               0.0|            0.0|                0.0|\n",
      "|   Springfield, IL|          12|           11|91.66666666666667|            1.0| 8.333333333333334|            0.0|                0.0|\n",
      "|         Aspen, CO|          18|           16|88.88888888888889|            2.0| 11.11111111111111|            0.0|                0.0|\n",
      "|      San Juan, PR|         181|          179|98.89502762430939|            2.0|1.1049723756906078|            0.0|                0.0|\n",
      "+------------------+------------+-------------+-----------------+---------------+------------------+---------------+-------------------+\n",
      "only showing top 20 rows\n",
      "\n"
     ]
    }
   ],
   "source": [
    "spark.sql(\"select origincityname,TOTAL_FLIGHT,TOTAL_ON_TIME,TOTAL_ON_TIME*100/TOTAL_FLIGHT AS ON_TIME_PER,TOTAL_CANCELLED,TOTAL_CANCELLED*100/TOTAL_FLIGHT AS CANCELLED_PER,TOTAL_DIRVERTED,TOTAL_DIRVERTED*100/TOTAL_FLIGHT AS DIVERTED_PER from AirlineTable2;\").show()"
   ]
  },
  {
   "cell_type": "code",
   "execution_count": null,
   "id": "21e45d2b",
   "metadata": {},
   "outputs": [],
   "source": []
  },
  {
   "cell_type": "code",
   "execution_count": 31,
   "id": "9b8ec997",
   "metadata": {},
   "outputs": [
    {
     "name": "stdout",
     "output_type": "stream",
     "text": [
      "+------+--------------------+--------+\n",
      "|origin|      origincityname|count(1)|\n",
      "+------+--------------------+--------+\n",
      "|   COS|Colorado Springs, CO|     100|\n",
      "|   SDF|      Louisville, KY|     175|\n",
      "|   CLL|College Station/B...|      10|\n",
      "|   PIR|          Pierre, SD|       1|\n",
      "|   MSN|         Madison, WI|      81|\n",
      "|   EVV|      Evansville, IN|      18|\n",
      "|   CMI|Champaign/Urbana, IL|      10|\n",
      "|   GTR|        Columbus, MS|       2|\n",
      "|   RIC|        Richmond, VA|     146|\n",
      "|   STX|   Christiansted, VI|      11|\n",
      "|   FLO|        Florence, SC|       4|\n",
      "|   DCA|      Washington, DC|     704|\n",
      "|   IPL|       El Centro, CA|       1|\n",
      "|   CKB|Clarksburg/Fairmo...|       1|\n",
      "|   GRI|    Grand Island, NE|       3|\n",
      "|   ITO|            Hilo, HI|      26|\n",
      "|   MSP|     Minneapolis, MN|    1128|\n",
      "|   AVL|       Asheville, NC|      29|\n",
      "|   CHS|      Charleston, SC|     109|\n",
      "|   PIT|      Pittsburgh, PA|     641|\n",
      "+------+--------------------+--------+\n",
      "only showing top 20 rows\n",
      "\n"
     ]
    }
   ],
   "source": [
    "# multiple group by columns\n",
    "spark.sql(\"select origin,origincityname,count(*) from AirlineTable group by origin,origincityname;\").show()"
   ]
  },
  {
   "cell_type": "code",
   "execution_count": 32,
   "id": "649dfdca",
   "metadata": {},
   "outputs": [
    {
     "name": "stdout",
     "output_type": "stream",
     "text": [
      "+------------------------------------------------------------------------------------------------+------+--------------------+--------+\n",
      "|RANK() OVER (ORDER BY count(1) DESC NULLS LAST ROWS BETWEEN UNBOUNDED PRECEDING AND CURRENT ROW)|origin|      origincityname|count(1)|\n",
      "+------------------------------------------------------------------------------------------------+------+--------------------+--------+\n",
      "|                                                                                               1|   ATL|         Atlanta, GA|    2669|\n",
      "|                                                                                               2|   ORD|         Chicago, IL|    2536|\n",
      "|                                                                                               3|   DFW|Dallas/Fort Worth...|    2188|\n",
      "|                                                                                               4|   LAX|     Los Angeles, CA|    1718|\n",
      "|                                                                                               5|   DEN|          Denver, CO|    1592|\n",
      "|                                                                                               6|   PHX|         Phoenix, AZ|    1340|\n",
      "|                                                                                               7|   IAH|         Houston, TX|    1212|\n",
      "|                                                                                               8|   DTW|         Detroit, MI|    1190|\n",
      "|                                                                                               9|   MSP|     Minneapolis, MN|    1128|\n",
      "|                                                                                               9|   SFO|   San Francisco, CA|    1128|\n",
      "|                                                                                              11|   LAS|       Las Vegas, NV|    1112|\n",
      "|                                                                                              12|   EWR|          Newark, NJ|    1032|\n",
      "|                                                                                              13|   CLT|       Charlotte, NC|     994|\n",
      "|                                                                                              14|   LGA|        New York, NY|     954|\n",
      "|                                                                                              15|   MCO|         Orlando, FL|     890|\n",
      "|                                                                                              16|   BOS|          Boston, MA|     884|\n",
      "|                                                                                              17|   SEA|         Seattle, WA|     855|\n",
      "|                                                                                              18|   STL|       St. Louis, MO|     846|\n",
      "|                                                                                              19|   SLC|  Salt Lake City, UT|     830|\n",
      "|                                                                                              20|   PHL|    Philadelphia, PA|     784|\n",
      "+------------------------------------------------------------------------------------------------+------+--------------------+--------+\n",
      "only showing top 20 rows\n",
      "\n"
     ]
    }
   ],
   "source": [
    "# rank of origin by number of flights\n",
    "spark.sql(\"select rank() over (ORDER BY count(*)desc),origin,origincityname,count(*) from AirlineTable where group by origin,origincityname;\").show()"
   ]
  },
  {
   "cell_type": "code",
   "execution_count": 33,
   "id": "a43f109f",
   "metadata": {},
   "outputs": [
    {
     "name": "stdout",
     "output_type": "stream",
     "text": [
      "+-------+--------+\n",
      "|AirTime|Distance|\n",
      "+-------+--------+\n",
      "|  153.0|   991.0|\n",
      "|  141.0|  1066.0|\n",
      "|  103.0|   773.0|\n",
      "|  220.0|  1979.0|\n",
      "|   80.0|   529.0|\n",
      "|   28.0|   190.0|\n",
      "|   94.0|   563.0|\n",
      "|   35.0|   192.0|\n",
      "|   59.0|   316.0|\n",
      "|  114.0|   793.0|\n",
      "|   null|   109.0|\n",
      "|   77.0|   562.0|\n",
      "|   null|  1045.0|\n",
      "|   95.0|   677.0|\n",
      "|   99.0|   733.0|\n",
      "|   null|   278.0|\n",
      "|   24.0|    98.0|\n",
      "|  102.0|   689.0|\n",
      "|  255.0|  2288.0|\n",
      "|   null|   373.0|\n",
      "+-------+--------+\n",
      "only showing top 20 rows\n",
      "\n"
     ]
    }
   ],
   "source": [
    "#total air time and distance travel by flights\n",
    "spark.sql(\"select AirTime,Distance from AirlineTable\").show()"
   ]
  },
  {
   "cell_type": "code",
   "execution_count": 34,
   "id": "fd965f3a",
   "metadata": {},
   "outputs": [],
   "source": [
    "#speed of flights in miles/hour"
   ]
  },
  {
   "cell_type": "code",
   "execution_count": 35,
   "id": "1e24091c",
   "metadata": {},
   "outputs": [],
   "source": [
    "df3 = spark.sql(\"select AirTime/60 As AirTime_Hour,Distance from AirlineTable\")"
   ]
  },
  {
   "cell_type": "code",
   "execution_count": 36,
   "id": "8c0bc7e4",
   "metadata": {},
   "outputs": [],
   "source": [
    "df3.registerTempTable(\"AirlineTable3\")"
   ]
  },
  {
   "cell_type": "code",
   "execution_count": 37,
   "id": "312a877c",
   "metadata": {},
   "outputs": [
    {
     "name": "stdout",
     "output_type": "stream",
     "text": [
      "+------------------+--------+-------------------------+\n",
      "|      AirTime_Hour|Distance|(Distance / AirTime_Hour)|\n",
      "+------------------+--------+-------------------------+\n",
      "|              2.55|   991.0|        388.6274509803922|\n",
      "|              2.35|  1066.0|        453.6170212765957|\n",
      "|1.7166666666666666|   773.0|       450.29126213592235|\n",
      "|3.6666666666666665|  1979.0|        539.7272727272727|\n",
      "|1.3333333333333333|   529.0|                   396.75|\n",
      "|0.4666666666666667|   190.0|        407.1428571428571|\n",
      "|1.5666666666666667|   563.0|       359.36170212765956|\n",
      "|0.5833333333333334|   192.0|        329.1428571428571|\n",
      "|0.9833333333333333|   316.0|       321.35593220338984|\n",
      "|               1.9|   793.0|        417.3684210526316|\n",
      "|              null|   109.0|                     null|\n",
      "|1.2833333333333334|   562.0|        437.9220779220779|\n",
      "|              null|  1045.0|                     null|\n",
      "|1.5833333333333333|   677.0|        427.5789473684211|\n",
      "|              1.65|   733.0|       444.24242424242425|\n",
      "|              null|   278.0|                     null|\n",
      "|               0.4|    98.0|                    245.0|\n",
      "|               1.7|   689.0|       405.29411764705884|\n",
      "|              4.25|  2288.0|        538.3529411764706|\n",
      "|              null|   373.0|                     null|\n",
      "+------------------+--------+-------------------------+\n",
      "only showing top 20 rows\n",
      "\n"
     ]
    }
   ],
   "source": [
    "spark.sql(\"select AirTime_Hour,Distance, Distance/AirTime_Hour from AirlineTable3\").show()"
   ]
  },
  {
   "cell_type": "code",
   "execution_count": null,
   "id": "2f6f6e8c",
   "metadata": {},
   "outputs": [],
   "source": []
  }
 ],
 "metadata": {
  "kernelspec": {
   "display_name": "Python 3 (ipykernel)",
   "language": "python",
   "name": "python3"
  },
  "language_info": {
   "codemirror_mode": {
    "name": "ipython",
    "version": 3
   },
   "file_extension": ".py",
   "mimetype": "text/x-python",
   "name": "python",
   "nbconvert_exporter": "python",
   "pygments_lexer": "ipython3",
   "version": "3.9.7"
  }
 },
 "nbformat": 4,
 "nbformat_minor": 5
}
