{
 "cells": [
  {
   "cell_type": "code",
   "execution_count": 1,
   "id": "7bff1d45",
   "metadata": {
    "id": "7bff1d45"
   },
   "outputs": [],
   "source": [
    "#importing pyspark\n",
    "import pyspark"
   ]
  },
  {
   "cell_type": "code",
   "execution_count": 2,
   "id": "200210bb",
   "metadata": {
    "id": "200210bb"
   },
   "outputs": [],
   "source": [
    "#importing sparksession\n",
    "from pyspark.sql import SparkSession"
   ]
  },
  {
   "cell_type": "code",
   "execution_count": 3,
   "id": "2466c6fb",
   "metadata": {
    "id": "2466c6fb"
   },
   "outputs": [],
   "source": [
    "#creating a sparksession object and providing appName \n",
    "spark=SparkSession.builder.appName(\"business_case_sql\").getOrCreate()"
   ]
  },
  {
   "cell_type": "markdown",
   "id": "0196cae8",
   "metadata": {
    "id": "0196cae8"
   },
   "source": [
    "# Create Dataframe"
   ]
  },
  {
   "cell_type": "code",
   "execution_count": 4,
   "id": "456df327",
   "metadata": {
    "id": "456df327"
   },
   "outputs": [],
   "source": [
    "data = [('Janice', 27, 25000),('Ross', 25, 30000),('Chandler', 22, 19000),('Joey', 30, 35000)]"
   ]
  },
  {
   "cell_type": "code",
   "execution_count": 5,
   "id": "0c6dd1be",
   "metadata": {
    "id": "0c6dd1be"
   },
   "outputs": [],
   "source": [
    "sqlDF = spark.createDataFrame(data, ['name', 'age', 'salary'])"
   ]
  },
  {
   "cell_type": "code",
   "execution_count": 6,
   "id": "ac8aa770",
   "metadata": {
    "colab": {
     "base_uri": "https://localhost:8080/"
    },
    "id": "ac8aa770",
    "outputId": "7b959670-2f04-424d-8b8f-359096fec655"
   },
   "outputs": [
    {
     "name": "stdout",
     "output_type": "stream",
     "text": [
      "+--------+---+------+\n",
      "|    name|age|salary|\n",
      "+--------+---+------+\n",
      "|  Janice| 27| 25000|\n",
      "|    Ross| 25| 30000|\n",
      "|Chandler| 22| 19000|\n",
      "|    Joey| 30| 35000|\n",
      "+--------+---+------+\n",
      "\n"
     ]
    }
   ],
   "source": [
    "sqlDF.show()"
   ]
  },
  {
   "cell_type": "markdown",
   "id": "b62dbe52",
   "metadata": {
    "id": "b62dbe52"
   },
   "source": [
    "# Create Table from DataFrame"
   ]
  },
  {
   "cell_type": "code",
   "execution_count": 7,
   "id": "8bf053cb",
   "metadata": {
    "id": "8bf053cb"
   },
   "outputs": [],
   "source": [
    "sqlDF.createOrReplaceTempView(\"person\")"
   ]
  },
  {
   "cell_type": "code",
   "execution_count": 8,
   "id": "7953b540",
   "metadata": {
    "colab": {
     "base_uri": "https://localhost:8080/"
    },
    "id": "7953b540",
    "outputId": "b300eb11-3c95-4216-9a73-312e83a5fb46"
   },
   "outputs": [
    {
     "name": "stdout",
     "output_type": "stream",
     "text": [
      "+--------+---+------+\n",
      "|    name|age|salary|\n",
      "+--------+---+------+\n",
      "|  Janice| 27| 25000|\n",
      "|    Ross| 25| 30000|\n",
      "|Chandler| 22| 19000|\n",
      "|    Joey| 30| 35000|\n",
      "+--------+---+------+\n",
      "\n"
     ]
    }
   ],
   "source": [
    "spark.sql(\"SELECT * from person\").show()"
   ]
  },
  {
   "cell_type": "markdown",
   "id": "d202a012",
   "metadata": {
    "id": "d202a012"
   },
   "source": [
    "# Create DataFrame from table "
   ]
  },
  {
   "cell_type": "code",
   "execution_count": 9,
   "id": "c1e72d32",
   "metadata": {
    "id": "c1e72d32"
   },
   "outputs": [],
   "source": [
    "newDF = spark.table(\"person\")"
   ]
  },
  {
   "cell_type": "code",
   "execution_count": 10,
   "id": "80a765c1",
   "metadata": {
    "colab": {
     "base_uri": "https://localhost:8080/"
    },
    "id": "80a765c1",
    "outputId": "d5e4238d-6958-4e82-f06d-fdeeed58efe9"
   },
   "outputs": [
    {
     "name": "stdout",
     "output_type": "stream",
     "text": [
      "+--------+---+------+\n",
      "|    name|age|salary|\n",
      "+--------+---+------+\n",
      "|  Janice| 27| 25000|\n",
      "|    Ross| 25| 30000|\n",
      "|Chandler| 22| 19000|\n",
      "|    Joey| 30| 35000|\n",
      "+--------+---+------+\n",
      "\n"
     ]
    }
   ],
   "source": [
    "newDF.show()"
   ]
  },
  {
   "cell_type": "markdown",
   "id": "0169f69c",
   "metadata": {
    "id": "0169f69c"
   },
   "source": [
    "# Other ways to create a table"
   ]
  },
  {
   "cell_type": "code",
   "execution_count": 11,
   "id": "fc58b8bf",
   "metadata": {
    "colab": {
     "base_uri": "https://localhost:8080/"
    },
    "id": "fc58b8bf",
    "outputId": "b86d5053-4244-41ed-b3ad-639a0593e603"
   },
   "outputs": [
    {
     "name": "stderr",
     "output_type": "stream",
     "text": [
      "/usr/local/spark/python/pyspark/sql/dataframe.py:138: FutureWarning: Deprecated in 2.0, use createOrReplaceTempView instead.\n",
      "  warnings.warn(\n"
     ]
    }
   ],
   "source": [
    "sqlDF.registerTempTable(\"person1\")"
   ]
  },
  {
   "cell_type": "code",
   "execution_count": 12,
   "id": "63168d5b",
   "metadata": {
    "colab": {
     "base_uri": "https://localhost:8080/"
    },
    "id": "63168d5b",
    "outputId": "49f53079-9b69-46d9-d04f-5f06ca1250b8"
   },
   "outputs": [
    {
     "name": "stdout",
     "output_type": "stream",
     "text": [
      "+--------+---+------+\n",
      "|    name|age|salary|\n",
      "+--------+---+------+\n",
      "|  Janice| 27| 25000|\n",
      "|    Ross| 25| 30000|\n",
      "|Chandler| 22| 19000|\n",
      "|    Joey| 30| 35000|\n",
      "+--------+---+------+\n",
      "\n"
     ]
    }
   ],
   "source": [
    "spark.sql(\"select * from person1\").show()"
   ]
  },
  {
   "cell_type": "markdown",
   "id": "7685ec2e",
   "metadata": {
    "id": "7685ec2e"
   },
   "source": [
    "# Drop table "
   ]
  },
  {
   "cell_type": "code",
   "execution_count": 13,
   "id": "a51a2d6e",
   "metadata": {
    "id": "a51a2d6e"
   },
   "outputs": [],
   "source": [
    "spark.catalog.dropTempView(\"person\")"
   ]
  },
  {
   "cell_type": "markdown",
   "id": "228385c0",
   "metadata": {
    "id": "228385c0"
   },
   "source": [
    "# Implementing some basics sql function"
   ]
  },
  {
   "cell_type": "code",
   "execution_count": 14,
   "id": "88614023",
   "metadata": {
    "colab": {
     "base_uri": "https://localhost:8080/"
    },
    "id": "88614023",
    "outputId": "bfee1fb8-9c11-4a04-b880-66fc454111c9"
   },
   "outputs": [
    {
     "name": "stdout",
     "output_type": "stream",
     "text": [
      "+--------+---+\n",
      "|    name|age|\n",
      "+--------+---+\n",
      "|  Janice| 27|\n",
      "|    Ross| 25|\n",
      "|Chandler| 22|\n",
      "|    Joey| 30|\n",
      "+--------+---+\n",
      "\n"
     ]
    }
   ],
   "source": [
    "spark.sql(\"SELECT name,age from person1\").show()"
   ]
  },
  {
   "cell_type": "code",
   "execution_count": 15,
   "id": "7da6a879",
   "metadata": {
    "colab": {
     "base_uri": "https://localhost:8080/"
    },
    "id": "7da6a879",
    "outputId": "6d9a9dee-25dc-4401-ee5b-55ce48375289"
   },
   "outputs": [
    {
     "name": "stdout",
     "output_type": "stream",
     "text": [
      "+-----------+\n",
      "|max(salary)|\n",
      "+-----------+\n",
      "|      35000|\n",
      "+-----------+\n",
      "\n"
     ]
    }
   ],
   "source": [
    "spark.sql(\"SELECT max(salary) from person1\").show()"
   ]
  },
  {
   "cell_type": "code",
   "execution_count": 16,
   "id": "d487a081",
   "metadata": {
    "colab": {
     "base_uri": "https://localhost:8080/"
    },
    "id": "d487a081",
    "outputId": "597118dc-5a46-4a6f-d175-546b3fb00ffb"
   },
   "outputs": [
    {
     "name": "stdout",
     "output_type": "stream",
     "text": [
      "+-----------+\n",
      "|avg(salary)|\n",
      "+-----------+\n",
      "|    27250.0|\n",
      "+-----------+\n",
      "\n"
     ]
    }
   ],
   "source": [
    "spark.sql(\"SELECT avg(salary) from person1\").show()"
   ]
  },
  {
   "cell_type": "code",
   "execution_count": 17,
   "id": "19df8896",
   "metadata": {
    "colab": {
     "base_uri": "https://localhost:8080/"
    },
    "id": "19df8896",
    "outputId": "0b562e46-5b64-4d0b-f30e-3b15651bcb38"
   },
   "outputs": [
    {
     "name": "stdout",
     "output_type": "stream",
     "text": [
      "+------------+\n",
      "|Total_Salary|\n",
      "+------------+\n",
      "|      109000|\n",
      "+------------+\n",
      "\n"
     ]
    }
   ],
   "source": [
    "spark.sql(\"SELECT sum(salary) as Total_Salary from person1\").show()"
   ]
  },
  {
   "cell_type": "code",
   "execution_count": 18,
   "id": "67002064",
   "metadata": {
    "colab": {
     "base_uri": "https://localhost:8080/"
    },
    "id": "67002064",
    "outputId": "60fd8a8b-c616-4702-a919-1f8032f682b3"
   },
   "outputs": [
    {
     "name": "stdout",
     "output_type": "stream",
     "text": [
      "+------+---+------+\n",
      "|  name|age|salary|\n",
      "+------+---+------+\n",
      "|Janice| 27| 25000|\n",
      "|  Ross| 25| 30000|\n",
      "|  Joey| 30| 35000|\n",
      "+------+---+------+\n",
      "\n"
     ]
    }
   ],
   "source": [
    "spark.sql(\"SELECT * from person1 where salary > 20000\").show()"
   ]
  },
  {
   "cell_type": "code",
   "execution_count": 19,
   "id": "1e573872",
   "metadata": {
    "colab": {
     "base_uri": "https://localhost:8080/"
    },
    "id": "1e573872",
    "outputId": "b7ceb8fc-28d6-4e93-e4f4-8630bc80cef0"
   },
   "outputs": [
    {
     "name": "stdout",
     "output_type": "stream",
     "text": [
      "+------+---+------+\n",
      "|  name|age|salary|\n",
      "+------+---+------+\n",
      "|Janice| 27| 25000|\n",
      "|  Joey| 30| 35000|\n",
      "+------+---+------+\n",
      "\n"
     ]
    }
   ],
   "source": [
    "spark.sql(\"SELECT * from person1 where salary > 20000 and age > 25\").show()"
   ]
  },
  {
   "cell_type": "markdown",
   "id": "ef21fdb3",
   "metadata": {
    "id": "ef21fdb3"
   },
   "source": [
    "# Joining on Tables"
   ]
  },
  {
   "cell_type": "code",
   "execution_count": 20,
   "id": "75433ac8",
   "metadata": {
    "id": "75433ac8"
   },
   "outputs": [],
   "source": [
    "x = [('Pasta',1),('Noodles',2),('Bobby',7),('Monica',4)]\n",
    "df1 = spark.createDataFrame(x,['name','id'])\n",
    " \n",
    "y = [('Times',1),('Hindu',5),('',3),('',4)]\n",
    "df2 = spark.createDataFrame(y,['name','id'])\n",
    " "
   ]
  },
  {
   "cell_type": "code",
   "execution_count": 21,
   "id": "82784dbf",
   "metadata": {
    "colab": {
     "base_uri": "https://localhost:8080/"
    },
    "id": "82784dbf",
    "outputId": "04f1632f-5770-46ea-93d7-5442a76cbe02"
   },
   "outputs": [],
   "source": [
    "df1.registerTempTable(\"table1\")\n",
    "df2.registerTempTable(\"table2\")"
   ]
  },
  {
   "cell_type": "markdown",
   "id": "6c952079",
   "metadata": {
    "id": "6c952079"
   },
   "source": [
    "# Inner Join"
   ]
  },
  {
   "cell_type": "code",
   "execution_count": 22,
   "id": "c90725ef",
   "metadata": {
    "colab": {
     "base_uri": "https://localhost:8080/"
    },
    "id": "c90725ef",
    "outputId": "db04ec5d-f3fa-465e-83bd-bab5431aa7fb"
   },
   "outputs": [
    {
     "name": "stdout",
     "output_type": "stream",
     "text": [
      "+---------+---+-----------+---+\n",
      "|     name| id|       name| id|\n",
      "+---------+---+-----------+---+\n",
      "|   Pirate|  1|   Rutabaga|  1|\n",
      "|Spaghetti|  4|Darth Vader|  4|\n",
      "+---------+---+-----------+---+\n",
      "\n"
     ]
    }
   ],
   "source": [
    "spark.sql(\"SELECT table1.*,table2.* FROM table2 inner JOIN table1 ON table2.id = table1.id\").show()"
   ]
  },
  {
   "cell_type": "markdown",
   "id": "0f95063c",
   "metadata": {
    "id": "0f95063c"
   },
   "source": [
    "# Left Join"
   ]
  },
  {
   "cell_type": "code",
   "execution_count": 23,
   "id": "c72b640b",
   "metadata": {
    "colab": {
     "base_uri": "https://localhost:8080/"
    },
    "id": "c72b640b",
    "outputId": "5c78607c-8331-4c5c-ca12-0688ba6ec818"
   },
   "outputs": [
    {
     "name": "stdout",
     "output_type": "stream",
     "text": [
      "+---------+----+-----------+---+\n",
      "|     name|  id|       name| id|\n",
      "+---------+----+-----------+---+\n",
      "|   Pirate|   1|   Rutabaga|  1|\n",
      "|     null|null|      Ninja|  3|\n",
      "|Spaghetti|   4|Darth Vader|  4|\n",
      "|     null|null|     Pirate|  5|\n",
      "+---------+----+-----------+---+\n",
      "\n"
     ]
    }
   ],
   "source": [
    "spark.sql(\"SELECT table1.*,table2.* FROM table2 left JOIN table1 ON table2.id = table1.id\").show()"
   ]
  },
  {
   "cell_type": "markdown",
   "id": "4cd2c97f",
   "metadata": {
    "id": "4cd2c97f"
   },
   "source": [
    "# Right Join"
   ]
  },
  {
   "cell_type": "code",
   "execution_count": 24,
   "id": "5dab430a",
   "metadata": {
    "colab": {
     "base_uri": "https://localhost:8080/"
    },
    "id": "5dab430a",
    "outputId": "6cf979ec-7c38-462a-d4c7-9331b0672a12"
   },
   "outputs": [
    {
     "name": "stdout",
     "output_type": "stream",
     "text": [
      "+---------+---+-----------+----+\n",
      "|     name| id|       name|  id|\n",
      "+---------+---+-----------+----+\n",
      "|   Pirate|  1|   Rutabaga|   1|\n",
      "|   Monkey|  2|       null|null|\n",
      "|Spaghetti|  4|Darth Vader|   4|\n",
      "|    Ninja|  7|       null|null|\n",
      "+---------+---+-----------+----+\n",
      "\n"
     ]
    }
   ],
   "source": [
    "spark.sql(\"SELECT table1.*,table2.* FROM table2 right JOIN table1 ON table2.id = table1.id\").show()"
   ]
  },
  {
   "cell_type": "markdown",
   "id": "ec89d4f6",
   "metadata": {
    "id": "ec89d4f6"
   },
   "source": [
    "# Full Join"
   ]
  },
  {
   "cell_type": "code",
   "execution_count": null,
   "id": "2b1c6cb4",
   "metadata": {
    "colab": {
     "base_uri": "https://localhost:8080/"
    },
    "id": "2b1c6cb4",
    "outputId": "81a15f8b-13ff-480e-ae62-2d3ec2e69684"
   },
   "outputs": [],
   "source": [
    "spark.sql(\"SELECT table1.*,table2.* FROM table2 full JOIN table1 ON table2.id = table1.id\").show()"
   ]
  },
  {
   "cell_type": "markdown",
   "id": "4a354c9d",
   "metadata": {
    "id": "4a354c9d"
   },
   "source": [
    "# Left Anti Join"
   ]
  },
  {
   "cell_type": "code",
   "execution_count": null,
   "id": "7bd9fe85",
   "metadata": {
    "colab": {
     "base_uri": "https://localhost:8080/"
    },
    "id": "7bd9fe85",
    "outputId": "c10e886b-366a-4b0b-f679-0757f72864d1"
   },
   "outputs": [],
   "source": [
    "spark.sql(\"SELECT table2.* FROM table2 left anti JOIN table1 ON table2.id = table1.id\").show()"
   ]
  },
  {
   "cell_type": "markdown",
   "id": "8b3cb234",
   "metadata": {
    "id": "8b3cb234"
   },
   "source": [
    "# Left Semi Join"
   ]
  },
  {
   "cell_type": "code",
   "execution_count": null,
   "id": "5ca48ef7",
   "metadata": {
    "colab": {
     "base_uri": "https://localhost:8080/"
    },
    "id": "5ca48ef7",
    "outputId": "58bf1f20-592f-472d-9bf3-f1c9e6990d36"
   },
   "outputs": [],
   "source": [
    "spark.sql(\"SELECT table2.* FROM table2 left semi JOIN table1 ON table2.id = table1.id\").show()"
   ]
  },
  {
   "cell_type": "code",
   "execution_count": null,
   "id": "64983630",
   "metadata": {
    "id": "64983630"
   },
   "outputs": [],
   "source": []
  }
 ],
 "metadata": {
  "colab": {
   "collapsed_sections": [],
   "name": "pysparksql1.ipynb",
   "provenance": []
  },
  "kernelspec": {
   "display_name": "Python 3 (ipykernel)",
   "language": "python",
   "name": "python3"
  },
  "language_info": {
   "codemirror_mode": {
    "name": "ipython",
    "version": 3
   },
   "file_extension": ".py",
   "mimetype": "text/x-python",
   "name": "python",
   "nbconvert_exporter": "python",
   "pygments_lexer": "ipython3",
   "version": "3.9.7"
  }
 },
 "nbformat": 4,
 "nbformat_minor": 5
}
